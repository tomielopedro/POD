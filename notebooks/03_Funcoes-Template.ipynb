{
 "cells": [
  {
   "cell_type": "markdown",
   "id": "4ac8b67b",
   "metadata": {},
   "source": [
    "# [Prof. Me. Otávio Parraga](mailto:otavio.parraga@pucrs.br)\n",
    "\n",
    "## Programação Orientada a Dados (POD) - Turma 11 (POD_98H04-06)\n",
    "\n",
    "**Atualizado**: 2025/1\n",
    "\n",
    "**Descrição**: Material de apoio as aulas sobre Python para POD\n",
    "\n",
    "**Copyright &copy;**: Este documento está sob a licença da Criative Commons [BY-NC-ND 4.0](https://creativecommons.org/licenses/by-nc-nd/4.0/legalcode)"
   ]
  },
  {
   "cell_type": "markdown",
   "id": "6a03ff92-2d39-4f06-9b30-94debc55cc17",
   "metadata": {
    "deletable": false,
    "editable": false,
    "tags": []
   },
   "source": [
    "# Funções em Python"
   ]
  },
  {
   "cell_type": "markdown",
   "id": "16cd8a5b-8851-4d8d-8cfc-bb9d5587e1f6",
   "metadata": {},
   "source": [
    "## Definição e Documentação de Funções"
   ]
  },
  {
   "cell_type": "code",
   "execution_count": null,
   "id": "efdcd266-4531-4335-9098-7030739a2703",
   "metadata": {},
   "outputs": [],
   "source": []
  },
  {
   "cell_type": "code",
   "execution_count": null,
   "id": "8451c273",
   "metadata": {},
   "outputs": [],
   "source": []
  },
  {
   "cell_type": "markdown",
   "id": "db96e76d-2489-4e0d-b02c-51f64ca51e66",
   "metadata": {},
   "source": [
    "## Parâmetros vs Argumentos"
   ]
  },
  {
   "cell_type": "code",
   "execution_count": null,
   "id": "db49d368-f5ef-4e42-94a3-c9e83cfd25ec",
   "metadata": {},
   "outputs": [],
   "source": []
  },
  {
   "cell_type": "code",
   "execution_count": null,
   "id": "16359120",
   "metadata": {},
   "outputs": [],
   "source": []
  },
  {
   "cell_type": "code",
   "execution_count": null,
   "id": "ee2c4111",
   "metadata": {},
   "outputs": [],
   "source": []
  },
  {
   "cell_type": "markdown",
   "id": "f46cdf64-2170-4503-be20-6a8461c4f4d7",
   "metadata": {},
   "source": [
    "## Retorno de Valores"
   ]
  },
  {
   "cell_type": "code",
   "execution_count": null,
   "id": "c2435d43-3854-4a30-aad7-7f20b8fc731b",
   "metadata": {},
   "outputs": [],
   "source": []
  },
  {
   "cell_type": "markdown",
   "id": "b2b40a6b-6bb5-4605-82f6-0d4bb6c87ebd",
   "metadata": {},
   "source": [
    "## Número Arbitrários de Argumentos"
   ]
  },
  {
   "cell_type": "code",
   "execution_count": null,
   "id": "d5c56920-1be4-4ed5-99bc-a3ee3afd9d1f",
   "metadata": {},
   "outputs": [],
   "source": []
  },
  {
   "cell_type": "markdown",
   "id": "a4fce4c1-e0fc-4641-bc99-97b91163237b",
   "metadata": {},
   "source": [
    "### Argumentos com Nomes (chave-valor)"
   ]
  },
  {
   "cell_type": "code",
   "execution_count": null,
   "id": "7fadb152-4ce2-4624-9f6c-968f295ebab7",
   "metadata": {},
   "outputs": [],
   "source": []
  },
  {
   "cell_type": "markdown",
   "id": "18556e32-7437-49cc-90c2-75c417df1d4b",
   "metadata": {},
   "source": [
    "### Argumentos Posicionais e Chave-valor Combinados"
   ]
  },
  {
   "cell_type": "code",
   "execution_count": null,
   "id": "d294b08f-0c31-4168-92ac-10ad26374159",
   "metadata": {},
   "outputs": [],
   "source": []
  },
  {
   "cell_type": "markdown",
   "id": "15519855-7559-4ded-8f1e-d0c516547645",
   "metadata": {},
   "source": [
    "## Ciclo de Vida e Escopo das Variáveis"
   ]
  },
  {
   "cell_type": "code",
   "execution_count": null,
   "id": "67f5fa90-b9bd-48a6-882a-47e1ed095e23",
   "metadata": {},
   "outputs": [],
   "source": []
  },
  {
   "cell_type": "markdown",
   "id": "5cfe4ee2-5971-4469-b6ab-e432c62a6238",
   "metadata": {},
   "source": [
    "## Funções Anônimas"
   ]
  },
  {
   "cell_type": "code",
   "execution_count": null,
   "id": "27aca0a8-3961-4758-ac21-0ab0d09ef4e5",
   "metadata": {},
   "outputs": [],
   "source": []
  }
 ],
 "metadata": {
  "kernelspec": {
   "display_name": "Python 3",
   "language": "python",
   "name": "python3"
  },
  "language_info": {
   "codemirror_mode": {
    "name": "ipython",
    "version": 3
   },
   "file_extension": ".py",
   "mimetype": "text/x-python",
   "name": "python",
   "nbconvert_exporter": "python",
   "pygments_lexer": "ipython3",
   "version": "3.9.15"
  }
 },
 "nbformat": 4,
 "nbformat_minor": 5
}
