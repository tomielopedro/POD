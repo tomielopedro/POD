{
 "cells": [
  {
   "cell_type": "markdown",
   "id": "1613e7cf-fc5d-4447-8f02-40e94342bb4f",
   "metadata": {
    "deletable": false,
    "editable": false,
    "tags": []
   },
   "source": [
    "# [Prof. Me. Otávio Parraga](mailto:otavio.parraga@pucrs.br)\n",
    "\n",
    "## Programação Orientada a Dados (POD) - Turma 11 (POD_98H04-06)\n",
    "\n",
    "**Atualizado**: 2025/1\n",
    "\n",
    "**Descrição**: Material de apoio as aulas sobre Python para POD\n",
    "\n",
    "**Copyright &copy;**: Este documento está sob a licença da Criative Commons [BY-NC-ND 4.0](https://creativecommons.org/licenses/by-nc-nd/4.0/legalcode)"
   ]
  },
  {
   "cell_type": "markdown",
   "id": "66bb485f",
   "metadata": {},
   "source": [
    "# Primeiros Passos"
   ]
  },
  {
   "cell_type": "markdown",
   "id": "1aa3df6a",
   "metadata": {},
   "source": [
    "## Declarando variáveis"
   ]
  },
  {
   "cell_type": "code",
   "execution_count": 1,
   "id": "4ba05ed8",
   "metadata": {},
   "outputs": [],
   "source": [
    "inteiro = 1\n",
    "flutuante = 1.3\n",
    "string = \"a\"\n",
    "string = 'a'\n",
    "booleano = True"
   ]
  },
  {
   "cell_type": "code",
   "execution_count": null,
   "id": "3ee031b0",
   "metadata": {},
   "outputs": [],
   "source": [
    "print(inteiro)\n",
    "print(flutuante)\n",
    "print(string)\n",
    "print(booleano)\n",
    "\n",
    "print(type(inteiro))\n",
    "print(type(flutuante))\n",
    "print(type(string))\n",
    "print(type(booleano))"
   ]
  },
  {
   "cell_type": "markdown",
   "id": "d5f7e41f-8ad5-4070-b146-0df12c6a0cb0",
   "metadata": {
    "deletable": false,
    "editable": false,
    "tags": []
   },
   "source": [
    "# Números em Python"
   ]
  },
  {
   "cell_type": "markdown",
   "id": "d412182c-5b3b-4f7c-8a10-6996fcb50966",
   "metadata": {
    "deletable": false,
    "editable": false,
    "tags": []
   },
   "source": [
    "## Inteiros"
   ]
  },
  {
   "cell_type": "code",
   "execution_count": 9,
   "id": "a4a74eee-b242-4cf0-be17-7b680e0cddde",
   "metadata": {
    "tags": []
   },
   "outputs": [
    {
     "name": "stdout",
     "output_type": "stream",
     "text": [
      "13\n"
     ]
    }
   ],
   "source": [
    "inteiro = 13\n",
    "print(inteiro)"
   ]
  },
  {
   "cell_type": "markdown",
   "id": "641922ec-26de-4418-9a4b-a4bba18d0960",
   "metadata": {
    "deletable": false,
    "editable": false,
    "tags": []
   },
   "source": [
    "## Ponto Flutuante"
   ]
  },
  {
   "cell_type": "code",
   "execution_count": 5,
   "id": "97338446-bc30-4008-b3fc-6f3ec12c01e7",
   "metadata": {
    "deletable": false,
    "editable": false,
    "tags": []
   },
   "outputs": [
    {
     "name": "stdout",
     "output_type": "stream",
     "text": [
      "1.3\n",
      "200000.0\n"
     ]
    }
   ],
   "source": [
    "flutuante = 1.3\n",
    "flutuante_grande = 2e5\n",
    "print(flutuante)\n",
    "print(flutuante_grande)"
   ]
  },
  {
   "cell_type": "markdown",
   "id": "974da6fc-41f0-4190-b86b-2b562b298383",
   "metadata": {
    "deletable": false,
    "editable": false,
    "tags": []
   },
   "source": [
    "### Conversões"
   ]
  },
  {
   "cell_type": "code",
   "execution_count": 10,
   "id": "b4624332-0ee7-41b0-a03d-f28a76775453",
   "metadata": {},
   "outputs": [
    {
     "name": "stdout",
     "output_type": "stream",
     "text": [
      "13\n",
      "<class 'int'>\n",
      "13.0\n",
      "<class 'float'>\n",
      "13\n",
      "<class 'str'>\n",
      "True\n",
      "<class 'bool'>\n"
     ]
    }
   ],
   "source": [
    "print(inteiro)\n",
    "print(type(inteiro))\n",
    "inteiro_convertido = float(inteiro)\n",
    "print(inteiro_convertido)\n",
    "print(type(inteiro_convertido))\n",
    "inteiro_convertido = str(inteiro)\n",
    "print(inteiro_convertido)\n",
    "print(type(inteiro_convertido))\n",
    "inteiro_convertido = bool(inteiro)\n",
    "print(inteiro_convertido)\n",
    "print(type(inteiro_convertido))"
   ]
  },
  {
   "cell_type": "markdown",
   "id": "c0bee556-f2ed-4e54-86a9-6ca517bc866d",
   "metadata": {
    "deletable": false,
    "editable": false,
    "tags": []
   },
   "source": [
    "## Booleanos"
   ]
  },
  {
   "cell_type": "markdown",
   "id": "acf1aa11-bb85-4406-abfe-32fbe406826d",
   "metadata": {
    "deletable": false,
    "editable": false,
    "tags": []
   },
   "source": [
    "Só podem ser `True` ou `False`"
   ]
  },
  {
   "cell_type": "code",
   "execution_count": null,
   "id": "a7d16ebf-ed49-4def-b21b-50d8f757e7cd",
   "metadata": {},
   "outputs": [],
   "source": []
  },
  {
   "cell_type": "markdown",
   "id": "27415361-a108-4e22-ad2a-d978491c08b4",
   "metadata": {
    "deletable": false,
    "editable": false,
    "tags": []
   },
   "source": [
    "### Convertendo em valores booleanos"
   ]
  },
  {
   "cell_type": "code",
   "execution_count": null,
   "id": "2cd12966-570e-4548-922a-5ff7ac57f76f",
   "metadata": {},
   "outputs": [],
   "source": []
  },
  {
   "cell_type": "markdown",
   "id": "3b905472-fecb-416b-8045-a81addb7684b",
   "metadata": {
    "deletable": false,
    "editable": false,
    "tags": []
   },
   "source": [
    "## None"
   ]
  },
  {
   "cell_type": "markdown",
   "id": "4da499d6-bc5a-46ba-8dd9-0b24430c6ab9",
   "metadata": {
    "deletable": false,
    "editable": false,
    "tags": []
   },
   "source": [
    "Usado para incializar uma variável que você não sabe qual é o valor inicial."
   ]
  },
  {
   "cell_type": "code",
   "execution_count": null,
   "id": "53eaba52-adf3-4349-a7a2-b1f447123203",
   "metadata": {
    "deletable": false,
    "editable": false,
    "tags": []
   },
   "outputs": [],
   "source": []
  },
  {
   "cell_type": "markdown",
   "id": "e61578cf-8572-4bb2-a8de-29f2b5a60c48",
   "metadata": {
    "deletable": false,
    "editable": false,
    "tags": []
   },
   "source": [
    "## Operadores de Identidade e Membros\n",
    "* `is` e `is not`\n",
    "* `in` e `not in`"
   ]
  },
  {
   "cell_type": "code",
   "execution_count": null,
   "id": "ed977c08-8c0b-4514-908a-7496515ebb13",
   "metadata": {},
   "outputs": [],
   "source": []
  },
  {
   "cell_type": "markdown",
   "id": "744abdd0-4edf-4348-888e-127feceea8dc",
   "metadata": {
    "deletable": false,
    "editable": false,
    "tags": []
   },
   "source": [
    "## Operadores de Comparação"
   ]
  },
  {
   "cell_type": "code",
   "execution_count": null,
   "id": "4e74f0bb-6fc4-4782-9242-f02cf7159ab5",
   "metadata": {},
   "outputs": [],
   "source": []
  },
  {
   "cell_type": "markdown",
   "id": "07da2518-93a0-4955-9e1e-42673c5a6bd7",
   "metadata": {
    "deletable": false,
    "editable": false,
    "tags": []
   },
   "source": [
    "## Operadores Lógicos"
   ]
  },
  {
   "cell_type": "code",
   "execution_count": null,
   "id": "13a11062-1f96-4604-a2ff-bca6f3205878",
   "metadata": {},
   "outputs": [],
   "source": []
  },
  {
   "cell_type": "markdown",
   "id": "9c40bc8f-837e-4c26-a2cf-bac6b08b27b9",
   "metadata": {
    "deletable": false,
    "editable": false,
    "tags": []
   },
   "source": [
    "## Operações Aritméticas"
   ]
  },
  {
   "cell_type": "code",
   "execution_count": null,
   "id": "ab956f69-dfd3-484f-a761-4bdee2136418",
   "metadata": {},
   "outputs": [],
   "source": []
  },
  {
   "cell_type": "markdown",
   "id": "f661c315-fc97-4612-8f91-8e8415461358",
   "metadata": {
    "deletable": false,
    "editable": false,
    "tags": []
   },
   "source": [
    "## Operadores de Aritmética com Atribuição"
   ]
  },
  {
   "cell_type": "code",
   "execution_count": null,
   "id": "7c7f2ea0-2c79-4e54-9d73-95b7ba6e06e4",
   "metadata": {},
   "outputs": [],
   "source": []
  },
  {
   "cell_type": "markdown",
   "id": "3ffabc65-c487-45c1-b600-c2b707c7f25d",
   "metadata": {
    "deletable": false,
    "editable": false,
    "tags": []
   },
   "source": [
    "## Operadores Bitwise"
   ]
  },
  {
   "cell_type": "code",
   "execution_count": null,
   "id": "2a384432",
   "metadata": {},
   "outputs": [],
   "source": []
  },
  {
   "cell_type": "markdown",
   "id": "d01a25c1",
   "metadata": {},
   "source": [
    "## Arredondar"
   ]
  },
  {
   "cell_type": "code",
   "execution_count": null,
   "id": "7cde2927",
   "metadata": {},
   "outputs": [],
   "source": []
  },
  {
   "cell_type": "markdown",
   "id": "357faab4",
   "metadata": {},
   "source": [
    "# Strings"
   ]
  },
  {
   "cell_type": "markdown",
   "id": "84fea3f7",
   "metadata": {},
   "source": [
    "## Representação de Strings\n",
    "\n",
    "Podemos usar aspas simples ou duplas"
   ]
  },
  {
   "cell_type": "code",
   "execution_count": null,
   "id": "6b03a84c",
   "metadata": {},
   "outputs": [],
   "source": []
  },
  {
   "cell_type": "markdown",
   "id": "fabf607c",
   "metadata": {},
   "source": [
    "Podemos também ter mais de uma linha"
   ]
  },
  {
   "cell_type": "code",
   "execution_count": null,
   "id": "349deb0f",
   "metadata": {},
   "outputs": [],
   "source": []
  },
  {
   "cell_type": "code",
   "execution_count": null,
   "id": "bf57270e",
   "metadata": {},
   "outputs": [],
   "source": []
  },
  {
   "cell_type": "markdown",
   "id": "dceda99d",
   "metadata": {},
   "source": [
    "Podemos também deletar o objeto se quisermos."
   ]
  },
  {
   "cell_type": "code",
   "execution_count": null,
   "id": "9301514c",
   "metadata": {},
   "outputs": [],
   "source": []
  },
  {
   "cell_type": "markdown",
   "id": "edb0971d",
   "metadata": {},
   "source": [
    "## Operações com Strings"
   ]
  },
  {
   "cell_type": "markdown",
   "id": "70ef3e3e",
   "metadata": {},
   "source": [
    "### Concatenação"
   ]
  },
  {
   "cell_type": "code",
   "execution_count": null,
   "id": "3aff3383",
   "metadata": {},
   "outputs": [],
   "source": []
  },
  {
   "cell_type": "markdown",
   "id": "1b95d162",
   "metadata": {},
   "source": [
    "### Obter o comprimeito de String"
   ]
  },
  {
   "cell_type": "code",
   "execution_count": null,
   "id": "78d8e2a8",
   "metadata": {},
   "outputs": [],
   "source": []
  },
  {
   "cell_type": "markdown",
   "id": "bd689a5d",
   "metadata": {},
   "source": [
    "### Acessar caracter specífico"
   ]
  },
  {
   "cell_type": "code",
   "execution_count": null,
   "id": "ef1d729f",
   "metadata": {},
   "outputs": [],
   "source": []
  },
  {
   "cell_type": "markdown",
   "id": "5159342b",
   "metadata": {},
   "source": [
    "### Acessar um subconjunto de caracteres"
   ]
  },
  {
   "cell_type": "code",
   "execution_count": null,
   "id": "547860d1",
   "metadata": {},
   "outputs": [],
   "source": []
  },
  {
   "cell_type": "markdown",
   "id": "d7ff5eeb",
   "metadata": {},
   "source": [
    "### Replicação/Repetição"
   ]
  },
  {
   "cell_type": "code",
   "execution_count": null,
   "id": "0f8e1cc8",
   "metadata": {},
   "outputs": [],
   "source": []
  },
  {
   "cell_type": "markdown",
   "id": "f9204353",
   "metadata": {},
   "source": [
    "### Particionar (split)"
   ]
  },
  {
   "cell_type": "code",
   "execution_count": null,
   "id": "42a6634b",
   "metadata": {},
   "outputs": [],
   "source": []
  },
  {
   "cell_type": "markdown",
   "id": "b25f5a4a",
   "metadata": {},
   "source": [
    "### Contar Ocorrências"
   ]
  },
  {
   "cell_type": "code",
   "execution_count": null,
   "id": "55ea9da1",
   "metadata": {},
   "outputs": [],
   "source": []
  },
  {
   "cell_type": "markdown",
   "id": "594ba704",
   "metadata": {},
   "source": [
    "### Substituição"
   ]
  },
  {
   "cell_type": "code",
   "execution_count": null,
   "id": "8ee565d3",
   "metadata": {},
   "outputs": [],
   "source": []
  },
  {
   "cell_type": "markdown",
   "id": "def47392",
   "metadata": {},
   "source": [
    "### Encontrar uma Substring"
   ]
  },
  {
   "cell_type": "code",
   "execution_count": null,
   "id": "722afa47",
   "metadata": {},
   "outputs": [],
   "source": []
  },
  {
   "cell_type": "markdown",
   "id": "55ca71ab",
   "metadata": {},
   "source": [
    "### Conversão de outros tipos para String"
   ]
  },
  {
   "cell_type": "code",
   "execution_count": null,
   "id": "ec9f07cf",
   "metadata": {},
   "outputs": [],
   "source": []
  },
  {
   "cell_type": "markdown",
   "id": "3fcb2176",
   "metadata": {},
   "source": [
    "### Comparação de strings"
   ]
  },
  {
   "cell_type": "code",
   "execution_count": null,
   "id": "77a7fcd7",
   "metadata": {},
   "outputs": [],
   "source": []
  },
  {
   "cell_type": "markdown",
   "id": "2ec303d4",
   "metadata": {},
   "source": [
    "### Formatação"
   ]
  },
  {
   "cell_type": "code",
   "execution_count": null,
   "id": "7abd5a7e",
   "metadata": {},
   "outputs": [],
   "source": []
  },
  {
   "cell_type": "markdown",
   "id": "d5121628",
   "metadata": {},
   "source": [
    "## Entrada do Usuário"
   ]
  },
  {
   "cell_type": "code",
   "execution_count": null,
   "id": "69c0d991",
   "metadata": {},
   "outputs": [],
   "source": []
  }
 ],
 "metadata": {
  "kernelspec": {
   "display_name": "pod_venv",
   "language": "python",
   "name": "python3"
  },
  "language_info": {
   "codemirror_mode": {
    "name": "ipython",
    "version": 3
   },
   "file_extension": ".py",
   "mimetype": "text/x-python",
   "name": "python",
   "nbconvert_exporter": "python",
   "pygments_lexer": "ipython3",
   "version": "3.13.0"
  }
 },
 "nbformat": 4,
 "nbformat_minor": 5
}
