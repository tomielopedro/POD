{
 "cells": [
  {
   "cell_type": "markdown",
   "id": "1613e7cf-fc5d-4447-8f02-40e94342bb4f",
   "metadata": {
    "deletable": false,
    "editable": false,
    "tags": []
   },
   "source": [
    "# [Prof. Me. Otávio Parraga](mailto:otavio.parraga@pucrs.br)\n",
    "\n",
    "## Programação Orientada a Dados (POD) - Turma 11 (POD_98H04-06)\n",
    "\n",
    "**Atualizado**: 2025/1\n",
    "\n",
    "**Descrição**: Material de apoio as aulas sobre Python para POD\n",
    "\n",
    "**Copyright &copy;**: Este documento está sob a licença da Criative Commons [BY-NC-ND 4.0](https://creativecommons.org/licenses/by-nc-nd/4.0/legalcode)"
   ]
  },
  {
   "cell_type": "markdown",
   "id": "66bb485f",
   "metadata": {},
   "source": [
    "# Primeiros Passos"
   ]
  },
  {
   "cell_type": "markdown",
   "id": "1aa3df6a",
   "metadata": {},
   "source": [
    "## Declarando variáveis"
   ]
  },
  {
   "cell_type": "code",
   "execution_count": 3,
   "id": "4ba05ed8",
   "metadata": {},
   "outputs": [],
   "source": [
    "inteiro = 1\n",
    "flutuante = 1.3\n",
    "string = \"a\"\n",
    "string_2 = 'a'\n",
    "booleano = True"
   ]
  },
  {
   "cell_type": "code",
   "execution_count": 4,
   "id": "508145b3",
   "metadata": {},
   "outputs": [
    {
     "name": "stdout",
     "output_type": "stream",
     "text": [
      "Hello World!\n",
      "1\n",
      "True\n"
     ]
    }
   ],
   "source": [
    "print(\"Hello World!\")\n",
    "print(inteiro)\n",
    "print(booleano)"
   ]
  },
  {
   "cell_type": "code",
   "execution_count": 7,
   "id": "f31a2236",
   "metadata": {},
   "outputs": [
    {
     "name": "stdout",
     "output_type": "stream",
     "text": [
      "<class 'int'>\n",
      "<class 'float'>\n",
      "<class 'str'>\n"
     ]
    }
   ],
   "source": [
    "print(type(inteiro))\n",
    "print(type(flutuante))\n",
    "print(type(string))"
   ]
  },
  {
   "cell_type": "code",
   "execution_count": 10,
   "id": "432ac74a",
   "metadata": {},
   "outputs": [
    {
     "data": {
      "text/plain": [
       "1.3"
      ]
     },
     "execution_count": 10,
     "metadata": {},
     "output_type": "execute_result"
    }
   ],
   "source": [
    "inteiro\n",
    "flutuante"
   ]
  },
  {
   "cell_type": "markdown",
   "id": "d5f7e41f-8ad5-4070-b146-0df12c6a0cb0",
   "metadata": {
    "deletable": false,
    "editable": false,
    "tags": []
   },
   "source": [
    "# Números em Python"
   ]
  },
  {
   "cell_type": "markdown",
   "id": "d412182c-5b3b-4f7c-8a10-6996fcb50966",
   "metadata": {
    "deletable": false,
    "editable": false,
    "tags": []
   },
   "source": [
    "## Inteiros"
   ]
  },
  {
   "cell_type": "code",
   "execution_count": 13,
   "id": "a4a74eee-b242-4cf0-be17-7b680e0cddde",
   "metadata": {
    "tags": []
   },
   "outputs": [
    {
     "name": "stdout",
     "output_type": "stream",
     "text": [
      "12\n",
      "<class 'int'>\n"
     ]
    }
   ],
   "source": [
    "inteiro = 12\n",
    "print(inteiro)\n",
    "print(type(inteiro))"
   ]
  },
  {
   "cell_type": "markdown",
   "id": "641922ec-26de-4418-9a4b-a4bba18d0960",
   "metadata": {
    "deletable": false,
    "editable": false,
    "tags": []
   },
   "source": [
    "## Ponto Flutuante"
   ]
  },
  {
   "cell_type": "code",
   "execution_count": null,
   "id": "97338446-bc30-4008-b3fc-6f3ec12c01e7",
   "metadata": {
    "deletable": false,
    "editable": false,
    "tags": []
   },
   "outputs": [
    {
     "name": "stdout",
     "output_type": "stream",
     "text": [
      "3.12\n",
      "<class 'float'>\n"
     ]
    }
   ],
   "source": [
    "flutuante = 3.12\n",
    "flutuante_grande = 2e3\n",
    "print(flutuante)\n",
    "print(type(flutuante))"
   ]
  },
  {
   "cell_type": "markdown",
   "id": "974da6fc-41f0-4190-b86b-2b562b298383",
   "metadata": {
    "deletable": false,
    "editable": false,
    "tags": []
   },
   "source": [
    "### Conversões"
   ]
  },
  {
   "cell_type": "code",
   "execution_count": 17,
   "id": "b4624332-0ee7-41b0-a03d-f28a76775453",
   "metadata": {},
   "outputs": [
    {
     "name": "stdout",
     "output_type": "stream",
     "text": [
      "12\n",
      "<class 'int'>\n",
      "12.0\n",
      "<class 'float'>\n",
      "12\n",
      "<class 'str'>\n"
     ]
    }
   ],
   "source": [
    "print(inteiro)\n",
    "print(type(inteiro))\n",
    "\n",
    "inteiro_convertido = float(inteiro)\n",
    "print(inteiro_convertido)\n",
    "print(type(inteiro_convertido))\n",
    "\n",
    "inteiro_convertido = str(inteiro)\n",
    "print(inteiro_convertido)\n",
    "print(type(inteiro_convertido))"
   ]
  },
  {
   "cell_type": "code",
   "execution_count": null,
   "id": "ebf6c394",
   "metadata": {},
   "outputs": [
    {
     "name": "stdout",
     "output_type": "stream",
     "text": [
      "45\n",
      "45\n",
      "45\n",
      "49\n"
     ]
    }
   ],
   "source": [
    "x = 45\n",
    "y = x\n",
    "print(x)\n",
    "print(y)\n",
    "\n",
    "y = y + 4\n",
    "print(x)\n",
    "print(y)"
   ]
  },
  {
   "cell_type": "code",
   "execution_count": null,
   "id": "ca839ab7",
   "metadata": {},
   "outputs": [
    {
     "ename": "TypeError",
     "evalue": "'float' object is not callable",
     "output_type": "error",
     "traceback": [
      "\u001b[0;31m---------------------------------------------------------------------------\u001b[0m",
      "\u001b[0;31mTypeError\u001b[0m                                 Traceback (most recent call last)",
      "Cell \u001b[0;32mIn[19], line 2\u001b[0m\n\u001b[1;32m      1\u001b[0m \u001b[38;5;28mfloat\u001b[39m \u001b[38;5;241m=\u001b[39m \u001b[38;5;241m4.2\u001b[39m\n\u001b[0;32m----> 2\u001b[0m \u001b[38;5;28mprint\u001b[39m(\u001b[38;5;28;43mfloat\u001b[39;49m\u001b[43m(\u001b[49m\u001b[38;5;241;43m45\u001b[39;49m\u001b[43m)\u001b[49m)\n",
      "\u001b[0;31mTypeError\u001b[0m: 'float' object is not callable"
     ]
    }
   ],
   "source": [
    "float = 4.2\n",
    "# print(float(45))"
   ]
  },
  {
   "cell_type": "code",
   "execution_count": 3,
   "id": "5a628519",
   "metadata": {},
   "outputs": [
    {
     "name": "stdout",
     "output_type": "stream",
     "text": [
      "4\n"
     ]
    },
    {
     "data": {
      "text/plain": [
       "5"
      ]
     },
     "execution_count": 3,
     "metadata": {},
     "output_type": "execute_result"
    }
   ],
   "source": [
    "flut = 4.99999\n",
    "print(int(flut))\n",
    "round(flut)"
   ]
  },
  {
   "cell_type": "markdown",
   "id": "c0bee556-f2ed-4e54-86a9-6ca517bc866d",
   "metadata": {
    "deletable": false,
    "editable": false,
    "tags": []
   },
   "source": [
    "## Booleanos"
   ]
  },
  {
   "cell_type": "markdown",
   "id": "acf1aa11-bb85-4406-abfe-32fbe406826d",
   "metadata": {
    "deletable": false,
    "editable": false,
    "tags": []
   },
   "source": [
    "Só podem ser `True` ou `False`"
   ]
  },
  {
   "cell_type": "code",
   "execution_count": 4,
   "id": "a7d16ebf-ed49-4def-b21b-50d8f757e7cd",
   "metadata": {},
   "outputs": [
    {
     "name": "stdout",
     "output_type": "stream",
     "text": [
      "<class 'bool'>\n",
      "<class 'bool'>\n"
     ]
    }
   ],
   "source": [
    "b = True\n",
    "a = False\n",
    "print(type(b))\n",
    "print(type(a))"
   ]
  },
  {
   "cell_type": "markdown",
   "id": "27415361-a108-4e22-ad2a-d978491c08b4",
   "metadata": {
    "deletable": false,
    "editable": false,
    "tags": []
   },
   "source": [
    "### Convertendo em valores booleanos"
   ]
  },
  {
   "cell_type": "code",
   "execution_count": 6,
   "id": "2cd12966-570e-4548-922a-5ff7ac57f76f",
   "metadata": {},
   "outputs": [
    {
     "name": "stdout",
     "output_type": "stream",
     "text": [
      "True\n",
      "True\n",
      "False\n"
     ]
    }
   ],
   "source": [
    "i = 4\n",
    "i_negativo = -8\n",
    "zero = 0\n",
    "print(bool(i))\n",
    "print(bool(i_negativo))\n",
    "print(bool(zero))"
   ]
  },
  {
   "cell_type": "markdown",
   "id": "3b905472-fecb-416b-8045-a81addb7684b",
   "metadata": {
    "deletable": false,
    "editable": false,
    "tags": []
   },
   "source": [
    "## None"
   ]
  },
  {
   "cell_type": "markdown",
   "id": "4da499d6-bc5a-46ba-8dd9-0b24430c6ab9",
   "metadata": {
    "deletable": false,
    "editable": false,
    "tags": []
   },
   "source": [
    "Usado para incializar uma variável que você não sabe qual é o valor inicial."
   ]
  },
  {
   "cell_type": "code",
   "execution_count": 7,
   "id": "53eaba52-adf3-4349-a7a2-b1f447123203",
   "metadata": {
    "deletable": false,
    "editable": false,
    "tags": []
   },
   "outputs": [
    {
     "name": "stdout",
     "output_type": "stream",
     "text": [
      "None\n",
      "<class 'NoneType'>\n"
     ]
    }
   ],
   "source": [
    "var = None\n",
    "print(var)\n",
    "print(type(var))"
   ]
  },
  {
   "cell_type": "markdown",
   "id": "e61578cf-8572-4bb2-a8de-29f2b5a60c48",
   "metadata": {
    "deletable": false,
    "editable": false,
    "tags": []
   },
   "source": [
    "## Operadores de Identidade e Membros\n",
    "* `is` e `is not`\n",
    "* `in` e `not in`"
   ]
  },
  {
   "cell_type": "code",
   "execution_count": 3,
   "id": "ed977c08-8c0b-4514-908a-7496515ebb13",
   "metadata": {},
   "outputs": [
    {
     "name": "stdout",
     "output_type": "stream",
     "text": [
      "True\n"
     ]
    }
   ],
   "source": [
    "x = 3\n",
    "y = 4\n",
    "print(x is not y)"
   ]
  },
  {
   "cell_type": "code",
   "execution_count": 5,
   "id": "28654d01",
   "metadata": {},
   "outputs": [
    {
     "name": "stdout",
     "output_type": "stream",
     "text": [
      "False\n"
     ]
    }
   ],
   "source": [
    "string = \"POD eh uma otima aula para se ter na sexta-feira.\"\n",
    "print(\"POD\" not in string)"
   ]
  },
  {
   "cell_type": "code",
   "execution_count": 6,
   "id": "4bd636fd",
   "metadata": {},
   "outputs": [
    {
     "name": "stdout",
     "output_type": "stream",
     "text": [
      "True\n",
      "True\n"
     ]
    }
   ],
   "source": [
    "listas = [1,2,3,4,5,6,7,8,9,0]\n",
    "tupla = (3,5,6,8,9)\n",
    "print(1 in listas)\n",
    "print(10 not in tupla)"
   ]
  },
  {
   "cell_type": "markdown",
   "id": "744abdd0-4edf-4348-888e-127feceea8dc",
   "metadata": {
    "deletable": false,
    "editable": false,
    "tags": []
   },
   "source": [
    "## Operadores de Comparação"
   ]
  },
  {
   "cell_type": "code",
   "execution_count": 8,
   "id": "4e74f0bb-6fc4-4782-9242-f02cf7159ab5",
   "metadata": {},
   "outputs": [
    {
     "name": "stdout",
     "output_type": "stream",
     "text": [
      "False\n",
      "True\n",
      "True\n"
     ]
    }
   ],
   "source": [
    "x = 5\n",
    "y = 6\n",
    "print(x == y)\n",
    "print(x != y)\n",
    "print(\"POD\" == \"POD\")"
   ]
  },
  {
   "cell_type": "code",
   "execution_count": 9,
   "id": "4b5838ff",
   "metadata": {},
   "outputs": [
    {
     "name": "stdout",
     "output_type": "stream",
     "text": [
      "True\n",
      "False\n",
      "True\n",
      "False\n"
     ]
    }
   ],
   "source": [
    "print(x < y)\n",
    "print(x > y)\n",
    "print(x <= y)\n",
    "print(x >= y)"
   ]
  },
  {
   "cell_type": "markdown",
   "id": "07da2518-93a0-4955-9e1e-42673c5a6bd7",
   "metadata": {
    "deletable": false,
    "editable": false,
    "tags": []
   },
   "source": [
    "## Operadores Lógicos"
   ]
  },
  {
   "cell_type": "code",
   "execution_count": 14,
   "id": "13a11062-1f96-4604-a2ff-bca6f3205878",
   "metadata": {},
   "outputs": [
    {
     "name": "stdout",
     "output_type": "stream",
     "text": [
      "0\n",
      "1\n",
      "True\n",
      "<class 'bool'>\n",
      "False\n",
      "<class 'bool'>\n"
     ]
    }
   ],
   "source": [
    "x = 0\n",
    "y = 1\n",
    "\n",
    "# E logico\n",
    "print(x and y)\n",
    "\n",
    "# OU\n",
    "print(x or y)\n",
    "\n",
    "# NOT\n",
    "print(not x)\n",
    "print(type(not x))\n",
    "print(not y)\n",
    "print(type(not y))\n"
   ]
  },
  {
   "cell_type": "markdown",
   "id": "9c40bc8f-837e-4c26-a2cf-bac6b08b27b9",
   "metadata": {
    "deletable": false,
    "editable": false,
    "tags": []
   },
   "source": [
    "## Operações Aritméticas"
   ]
  },
  {
   "cell_type": "code",
   "execution_count": 7,
   "id": "ab956f69-dfd3-484f-a761-4bdee2136418",
   "metadata": {},
   "outputs": [
    {
     "name": "stdout",
     "output_type": "stream",
     "text": [
      "9\n",
      "-1\n",
      "20\n",
      "0.8\n",
      "4\n",
      "1024\n",
      "0\n",
      "4.0\n"
     ]
    }
   ],
   "source": [
    "x = 4\n",
    "y = 5\n",
    "print(x + y)\n",
    "print(x - y)\n",
    "print(x * y)\n",
    "print(x / y)\n",
    "print(x % y)\n",
    "print(x**y)\n",
    "print(x // y)\n",
    "\n",
    "import math\n",
    "print(math.sqrt(16))"
   ]
  },
  {
   "cell_type": "markdown",
   "id": "f661c315-fc97-4612-8f91-8e8415461358",
   "metadata": {
    "deletable": false,
    "editable": false,
    "tags": []
   },
   "source": [
    "## Operadores de Aritmética com Atribuição"
   ]
  },
  {
   "cell_type": "code",
   "execution_count": null,
   "id": "6bfea0cf",
   "metadata": {},
   "outputs": [],
   "source": [
    "# "
   ]
  },
  {
   "cell_type": "code",
   "execution_count": null,
   "id": "7c7f2ea0-2c79-4e54-9d73-95b7ba6e06e4",
   "metadata": {},
   "outputs": [
    {
     "name": "stdout",
     "output_type": "stream",
     "text": [
      "Ola\n",
      "26\n"
     ]
    }
   ],
   "source": [
    "# i = 0\n",
    "i += 1\n",
    "print(i)\n",
    "# i /= 1\n",
    "# i -= 1\n",
    "# i *= 1\n",
    "# i **= 1"
   ]
  },
  {
   "cell_type": "code",
   "execution_count": 66,
   "id": "6424a089",
   "metadata": {},
   "outputs": [],
   "source": [
    "del i"
   ]
  },
  {
   "cell_type": "markdown",
   "id": "3ffabc65-c487-45c1-b600-c2b707c7f25d",
   "metadata": {
    "deletable": false,
    "editable": false,
    "tags": []
   },
   "source": [
    "## Operadores Bitwise"
   ]
  },
  {
   "cell_type": "code",
   "execution_count": null,
   "id": "2a384432",
   "metadata": {},
   "outputs": [],
   "source": []
  },
  {
   "cell_type": "markdown",
   "id": "d01a25c1",
   "metadata": {},
   "source": [
    "## Arredondar"
   ]
  },
  {
   "cell_type": "code",
   "execution_count": 68,
   "id": "7cde2927",
   "metadata": {},
   "outputs": [
    {
     "data": {
      "text/plain": [
       "3"
      ]
     },
     "execution_count": 68,
     "metadata": {},
     "output_type": "execute_result"
    }
   ],
   "source": [
    "round(3.4)"
   ]
  },
  {
   "cell_type": "code",
   "execution_count": 69,
   "id": "77d08707",
   "metadata": {},
   "outputs": [
    {
     "data": {
      "text/plain": [
       "4"
      ]
     },
     "execution_count": 69,
     "metadata": {},
     "output_type": "execute_result"
    }
   ],
   "source": [
    "round(3.6)"
   ]
  },
  {
   "cell_type": "markdown",
   "id": "357faab4",
   "metadata": {},
   "source": [
    "# Strings"
   ]
  },
  {
   "cell_type": "markdown",
   "id": "84fea3f7",
   "metadata": {},
   "source": [
    "## Representação de Strings\n",
    "\n",
    "Podemos usar aspas simples ou duplas"
   ]
  },
  {
   "cell_type": "code",
   "execution_count": 74,
   "id": "6b03a84c",
   "metadata": {},
   "outputs": [
    {
     "name": "stdout",
     "output_type": "stream",
     "text": [
      "Aula de POD\n",
      "Aula de POD\n",
      "A citacao de \"Charles\" \n",
      "A citacao de \"Charles\"\n"
     ]
    }
   ],
   "source": [
    "dupla = \"Aula de POD\"\n",
    "print(dupla)\n",
    "simples = 'Aula de POD'\n",
    "print(simples)\n",
    "\n",
    "texto = 'A citacao de \"Charles\" '\n",
    "print(texto)\n",
    "texto_1 = \"A citacao de \\\"Charles\\\"\"\n",
    "print(texto_1)"
   ]
  },
  {
   "cell_type": "code",
   "execution_count": 76,
   "id": "b9a8929c",
   "metadata": {},
   "outputs": [
    {
     "name": "stdout",
     "output_type": "stream",
     "text": [
      "Aula de \n",
      " POD\n"
     ]
    }
   ],
   "source": [
    "print(\"Aula de \\n POD\")"
   ]
  },
  {
   "cell_type": "markdown",
   "id": "fabf607c",
   "metadata": {},
   "source": [
    "Podemos também ter mais de uma linha"
   ]
  },
  {
   "cell_type": "code",
   "execution_count": null,
   "id": "349deb0f",
   "metadata": {},
   "outputs": [],
   "source": [
    "mais_de_uma_linha = \"\"\"\n",
    "Tudo aqui dentro\n",
    "Vira uma String\n",
    "OU seja\n",
    "podemos escrever bastante\n",
    "\"\"\""
   ]
  },
  {
   "cell_type": "code",
   "execution_count": 77,
   "id": "bf57270e",
   "metadata": {},
   "outputs": [
    {
     "name": "stdout",
     "output_type": "stream",
     "text": [
      "Help on built-in function sqrt in module math:\n",
      "\n",
      "sqrt(x, /)\n",
      "    Return the square root of x.\n",
      "\n"
     ]
    }
   ],
   "source": [
    "import math\n",
    "\n",
    "help(math.sqrt)"
   ]
  },
  {
   "cell_type": "code",
   "execution_count": 78,
   "id": "61c1b88a",
   "metadata": {},
   "outputs": [
    {
     "name": "stdout",
     "output_type": "stream",
     "text": [
      "Help on class type in module builtins:\n",
      "\n",
      "class type(object)\n",
      " |  type(object) -> the object's type\n",
      " |  type(name, bases, dict, **kwds) -> a new type\n",
      " |  \n",
      " |  Methods defined here:\n",
      " |  \n",
      " |  __call__(self, /, *args, **kwargs)\n",
      " |      Call self as a function.\n",
      " |  \n",
      " |  __delattr__(self, name, /)\n",
      " |      Implement delattr(self, name).\n",
      " |  \n",
      " |  __dir__(self, /)\n",
      " |      Specialized __dir__ implementation for types.\n",
      " |  \n",
      " |  __getattribute__(self, name, /)\n",
      " |      Return getattr(self, name).\n",
      " |  \n",
      " |  __init__(self, /, *args, **kwargs)\n",
      " |      Initialize self.  See help(type(self)) for accurate signature.\n",
      " |  \n",
      " |  __instancecheck__(self, instance, /)\n",
      " |      Check if an object is an instance.\n",
      " |  \n",
      " |  __repr__(self, /)\n",
      " |      Return repr(self).\n",
      " |  \n",
      " |  __setattr__(self, name, value, /)\n",
      " |      Implement setattr(self, name, value).\n",
      " |  \n",
      " |  __sizeof__(self, /)\n",
      " |      Return memory consumption of the type object.\n",
      " |  \n",
      " |  __subclasscheck__(self, subclass, /)\n",
      " |      Check if a class is a subclass.\n",
      " |  \n",
      " |  __subclasses__(self, /)\n",
      " |      Return a list of immediate subclasses.\n",
      " |  \n",
      " |  mro(self, /)\n",
      " |      Return a type's method resolution order.\n",
      " |  \n",
      " |  ----------------------------------------------------------------------\n",
      " |  Class methods defined here:\n",
      " |  \n",
      " |  __prepare__(...)\n",
      " |      __prepare__() -> dict\n",
      " |      used to create the namespace for the class statement\n",
      " |  \n",
      " |  ----------------------------------------------------------------------\n",
      " |  Static methods defined here:\n",
      " |  \n",
      " |  __new__(*args, **kwargs)\n",
      " |      Create and return a new object.  See help(type) for accurate signature.\n",
      " |  \n",
      " |  ----------------------------------------------------------------------\n",
      " |  Data descriptors defined here:\n",
      " |  \n",
      " |  __abstractmethods__\n",
      " |  \n",
      " |  __dict__\n",
      " |  \n",
      " |  __text_signature__\n",
      " |  \n",
      " |  ----------------------------------------------------------------------\n",
      " |  Data and other attributes defined here:\n",
      " |  \n",
      " |  __base__ = <class 'object'>\n",
      " |      The base class of the class hierarchy.\n",
      " |      \n",
      " |      When called, it accepts no arguments and returns a new featureless\n",
      " |      instance that has no instance attributes and cannot be given any.\n",
      " |  \n",
      " |  \n",
      " |  __bases__ = (<class 'object'>,)\n",
      " |  \n",
      " |  __basicsize__ = 880\n",
      " |  \n",
      " |  __dictoffset__ = 264\n",
      " |  \n",
      " |  __flags__ = 2148293632\n",
      " |  \n",
      " |  __itemsize__ = 40\n",
      " |  \n",
      " |  __mro__ = (<class 'type'>, <class 'object'>)\n",
      " |  \n",
      " |  __weakrefoffset__ = 368\n",
      "\n"
     ]
    }
   ],
   "source": [
    "help(type)"
   ]
  },
  {
   "cell_type": "markdown",
   "id": "dceda99d",
   "metadata": {},
   "source": [
    "Podemos também deletar o objeto se quisermos."
   ]
  },
  {
   "cell_type": "code",
   "execution_count": null,
   "id": "9301514c",
   "metadata": {},
   "outputs": [],
   "source": []
  },
  {
   "cell_type": "markdown",
   "id": "edb0971d",
   "metadata": {},
   "source": [
    "## Operações com Strings"
   ]
  },
  {
   "cell_type": "markdown",
   "id": "70ef3e3e",
   "metadata": {},
   "source": [
    "### Concatenação"
   ]
  },
  {
   "cell_type": "code",
   "execution_count": 79,
   "id": "3aff3383",
   "metadata": {},
   "outputs": [
    {
     "name": "stdout",
     "output_type": "stream",
     "text": [
      "A B\n"
     ]
    }
   ],
   "source": [
    "texto = \"A \"\n",
    "print(texto + \"B\")"
   ]
  },
  {
   "cell_type": "code",
   "execution_count": 80,
   "id": "b8c8f831",
   "metadata": {},
   "outputs": [
    {
     "name": "stdout",
     "output_type": "stream",
     "text": [
      "Tenho uma var  12  essa foi  A \n"
     ]
    }
   ],
   "source": [
    "# System.out.println(\"sadasd\" + d + \"afdasdsa\")\n",
    "print(\"Tenho uma var \", 12, \" essa foi \", texto)"
   ]
  },
  {
   "cell_type": "markdown",
   "id": "1b95d162",
   "metadata": {},
   "source": [
    "### Obter o comprimeito de String"
   ]
  },
  {
   "cell_type": "code",
   "execution_count": 84,
   "id": "78d8e2a8",
   "metadata": {},
   "outputs": [
    {
     "name": "stdout",
     "output_type": "stream",
     "text": [
      "3\n",
      "4\n",
      "4\n"
     ]
    }
   ],
   "source": [
    "# help(len)\n",
    "string = \"POD\"\n",
    "print(len(string))\n",
    "string = \"POD \"\n",
    "print(len(string))\n",
    "string = \" POD\"\n",
    "print(len(string))"
   ]
  },
  {
   "cell_type": "code",
   "execution_count": 88,
   "id": "6860c3c1",
   "metadata": {},
   "outputs": [
    {
     "name": "stdout",
     "output_type": "stream",
     "text": [
      "           POD\n",
      "14\n",
      "POD\n"
     ]
    }
   ],
   "source": [
    "string = \"           POD\"\n",
    "print(string)\n",
    "print(len(string))\n",
    "print(string.strip())"
   ]
  },
  {
   "cell_type": "markdown",
   "id": "bd689a5d",
   "metadata": {},
   "source": [
    "### Acessar caracter specífico"
   ]
  },
  {
   "cell_type": "code",
   "execution_count": 102,
   "id": "ef1d729f",
   "metadata": {},
   "outputs": [
    {
     "name": "stdout",
     "output_type": "stream",
     "text": [
      "A\n",
      "A u\n",
      "Au\n",
      "Au\n",
      "a de\n",
      "Aula de POD\n",
      "Al ePD\n",
      "DOP ed aluA\n"
     ]
    }
   ],
   "source": [
    "string = \"Aula de POD\"\n",
    "print(string[0])\n",
    "# string[0] = \"Boa \"\n",
    "# print(string)\n",
    "\n",
    "print(string[0], string[1])\n",
    "print(string[0:2])\n",
    "print(string[:2])\n",
    "print(string[3:7])\n",
    "print(string[:11:1])\n",
    "print(string[:11:2])\n",
    "print(string[::-1])"
   ]
  },
  {
   "cell_type": "markdown",
   "id": "5159342b",
   "metadata": {},
   "source": [
    "### Acessar um subconjunto de caracteres"
   ]
  },
  {
   "cell_type": "code",
   "execution_count": null,
   "id": "547860d1",
   "metadata": {},
   "outputs": [],
   "source": []
  },
  {
   "cell_type": "markdown",
   "id": "d7ff5eeb",
   "metadata": {},
   "source": [
    "### Replicação/Repetição"
   ]
  },
  {
   "cell_type": "code",
   "execution_count": null,
   "id": "0f8e1cc8",
   "metadata": {},
   "outputs": [],
   "source": []
  },
  {
   "cell_type": "markdown",
   "id": "f9204353",
   "metadata": {},
   "source": [
    "### Particionar (split)"
   ]
  },
  {
   "cell_type": "code",
   "execution_count": null,
   "id": "42a6634b",
   "metadata": {},
   "outputs": [],
   "source": []
  },
  {
   "cell_type": "markdown",
   "id": "b25f5a4a",
   "metadata": {},
   "source": [
    "### Contar Ocorrências"
   ]
  },
  {
   "cell_type": "code",
   "execution_count": null,
   "id": "55ea9da1",
   "metadata": {},
   "outputs": [],
   "source": []
  },
  {
   "cell_type": "markdown",
   "id": "594ba704",
   "metadata": {},
   "source": [
    "### Substituição"
   ]
  },
  {
   "cell_type": "code",
   "execution_count": null,
   "id": "8ee565d3",
   "metadata": {},
   "outputs": [],
   "source": []
  },
  {
   "cell_type": "markdown",
   "id": "def47392",
   "metadata": {},
   "source": [
    "### Encontrar uma Substring"
   ]
  },
  {
   "cell_type": "code",
   "execution_count": null,
   "id": "722afa47",
   "metadata": {},
   "outputs": [],
   "source": []
  },
  {
   "cell_type": "markdown",
   "id": "55ca71ab",
   "metadata": {},
   "source": [
    "### Conversão de outros tipos para String"
   ]
  },
  {
   "cell_type": "code",
   "execution_count": null,
   "id": "ec9f07cf",
   "metadata": {},
   "outputs": [],
   "source": []
  },
  {
   "cell_type": "markdown",
   "id": "3fcb2176",
   "metadata": {},
   "source": [
    "### Comparação de strings"
   ]
  },
  {
   "cell_type": "code",
   "execution_count": null,
   "id": "77a7fcd7",
   "metadata": {},
   "outputs": [],
   "source": []
  },
  {
   "cell_type": "markdown",
   "id": "2ec303d4",
   "metadata": {},
   "source": [
    "### Formatação"
   ]
  },
  {
   "cell_type": "code",
   "execution_count": null,
   "id": "7abd5a7e",
   "metadata": {},
   "outputs": [],
   "source": []
  },
  {
   "cell_type": "markdown",
   "id": "d5121628",
   "metadata": {},
   "source": [
    "## Entrada do Usuário"
   ]
  },
  {
   "cell_type": "code",
   "execution_count": null,
   "id": "69c0d991",
   "metadata": {},
   "outputs": [],
   "source": []
  }
 ],
 "metadata": {
  "kernelspec": {
   "display_name": "python3",
   "language": "python",
   "name": "python3"
  },
  "language_info": {
   "codemirror_mode": {
    "name": "ipython",
    "version": 3
   },
   "file_extension": ".py",
   "mimetype": "text/x-python",
   "name": "python",
   "nbconvert_exporter": "python",
   "pygments_lexer": "ipython3",
   "version": "3.9.15"
  }
 },
 "nbformat": 4,
 "nbformat_minor": 5
}
