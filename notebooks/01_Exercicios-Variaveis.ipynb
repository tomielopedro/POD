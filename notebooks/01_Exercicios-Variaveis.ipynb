{
 "cells": [
  {
   "cell_type": "markdown",
   "metadata": {},
   "source": [
    "# Exercícios Práticos\n",
    "* Para realizar os exercícios abaixo, utilize apenas os conceitos e comandos vistos na disciplina até o momento, incluindo os métodos de string."
   ]
  },
  {
   "cell_type": "markdown",
   "metadata": {},
   "source": [
    "## 1. Gere um programa que receba de entrada do usuário um valor em Celsius e o converte para Fahrenheit.\n",
    "- **Descrição**: Crie um programa que solicite ao usuário um valor em graus Celsius e converta esse valor para Fahrenheit usando a fórmula:\n",
    "  \\[\n",
    "  F = C * 9/5 + 32\n",
    "  \\]\n",
    "- **Exemplo de Entrada**: `25`\n",
    "- **Exemplo de Saída**: `77.0`"
   ]
  },
  {
   "cell_type": "code",
   "execution_count": null,
   "metadata": {},
   "outputs": [],
   "source": []
  },
  {
   "cell_type": "markdown",
   "metadata": {},
   "source": [
    "## 2. Gere um programa que receba de entrada do usuário um valor em metros e o converte para centímetros.\n",
    "- **Descrição**: Crie um programa que solicite ao usuário um valor em metros e converta esse valor para centímetros. Lembre-se de que 1 metro equivale a 100 centímetros.\n",
    "- **Exemplo de Entrada**: `2.5`\n",
    "- **Exemplo de Saída**: `250.0`"
   ]
  },
  {
   "cell_type": "code",
   "execution_count": null,
   "metadata": {},
   "outputs": [],
   "source": []
  },
  {
   "cell_type": "markdown",
   "metadata": {},
   "source": [
    "## 3. Gere um programa que receba de entrada do usuário um valor em reais e o converte para dólares.\n",
    "- **Descrição**: Crie um programa que solicite ao usuário um valor em reais e converta esse valor para dólares. Considere que 1 dólar equivale a 5.5 reais.\n",
    "- **Exemplo de Entrada**: `100`\n",
    "- **Exemplo de Saída**: `20.0`"
   ]
  },
  {
   "cell_type": "code",
   "execution_count": null,
   "metadata": {},
   "outputs": [],
   "source": []
  },
  {
   "cell_type": "markdown",
   "metadata": {},
   "source": [
    "## 4. Gere um programa que receba de entrada do usuário uma string e a inverta.\n",
    "- **Descrição**: Crie um programa que solicite ao usuário uma string e retorne a string invertida.\n",
    "- **Exemplo de Entrada**: `\"Python\"`\n",
    "- **Exemplo de Saída**: `\"nohtyP\"`"
   ]
  },
  {
   "cell_type": "code",
   "execution_count": null,
   "metadata": {},
   "outputs": [],
   "source": []
  },
  {
   "cell_type": "markdown",
   "metadata": {},
   "source": [
    "## 5. Gere um programa que receba de entrada do usuário uma lista de números e retorne o maior e o menor valor.\n",
    "- **Descrição**: Crie um programa que solicite ao usuário uma lista de números separados por vírgula e retorne o maior e o menor valor da lista.\n",
    "- **Exemplo de Entrada**: `\"3, 7, 2, 9, 5\"`\n",
    "- **Exemplo de Saída**: `Maior: 9, Menor: 2`\n",
    "- **Dica**:\n",
    "  - Use as funções `max()` e `min()` para encontrar o maior e o menor valor."
   ]
  },
  {
   "cell_type": "code",
   "execution_count": null,
   "metadata": {},
   "outputs": [],
   "source": []
  },
  {
   "cell_type": "markdown",
   "metadata": {},
   "source": [
    "## 6. Gere um programa que receba de entrada do usuário uma string e verifique se ela é um palíndromo.\n",
    "- **Descrição**: Crie um programa que solicite ao usuário uma string e verifique se ela é um palíndromo (ou seja, se ela é a mesma quando lida de trás para frente). Retorne um valor booleano indicando se a string é um palíndromo ou não.\n",
    "- **Exemplo de Entrada**: `\"arara\"`\n",
    "- **Exemplo de Saída**: `True`"
   ]
  },
  {
   "cell_type": "code",
   "execution_count": null,
   "metadata": {},
   "outputs": [],
   "source": []
  },
  {
   "cell_type": "markdown",
   "metadata": {},
   "source": [
    "## 7. Gere um programa que receba de entrada do usuário uma string e substitua todas as ocorrências de uma palavra por outra.\n",
    "- **Descrição**: Crie um programa que solicite ao usuário uma string e duas palavras: uma para ser substituída e outra para substituir. O programa deve substituir todas as ocorrências da primeira palavra pela segunda.\n",
    "- **Exemplo de Entrada**: `\"Python é legal\", \"legal\", \"incrível\"`\n",
    "- **Exemplo de Saída**: `\"Python é incrível\"`"
   ]
  },
  {
   "cell_type": "code",
   "execution_count": null,
   "metadata": {},
   "outputs": [],
   "source": []
  },
  {
   "cell_type": "markdown",
   "metadata": {},
   "source": [
    "## 8. Gere um programa que receba de entrada do usuário uma string e verifique se ela contém apenas letras maiúsculas.\n",
    "- **Descrição**: Crie um programa que solicite ao usuário uma string e verifique se todos os caracteres são letras maiúsculas.\n",
    "- **Exemplo de Entrada**: `\"PYTHON\"`\n",
    "- **Exemplo de Saída**: `True`"
   ]
  },
  {
   "cell_type": "code",
   "execution_count": null,
   "metadata": {},
   "outputs": [],
   "source": []
  },
  {
   "cell_type": "markdown",
   "metadata": {},
   "source": [
    "## 9. Gere um programa que receba de entrada do usuário uma string e conte quantas palavras ela contém.\n",
    "- **Descrição**: Crie um programa que solicite ao usuário uma string e conte quantas palavras ela contém.\n",
    "- **Exemplo de Entrada**: `\"Python é uma linguagem poderosa\"`\n",
    "- **Exemplo de Saída**: `5`"
   ]
  },
  {
   "cell_type": "code",
   "execution_count": null,
   "metadata": {},
   "outputs": [],
   "source": []
  },
  {
   "cell_type": "markdown",
   "metadata": {},
   "source": [
    "## 10. Gere um programa que receba de entrada do usuário uma string e remova todos os espaços em branco.\n",
    "- **Descrição**: Crie um programa que solicite ao usuário uma string e remova todos os espaços em branco.\n",
    "- **Exemplo de Entrada**: `\" Python é incrível \"`\n",
    "- **Exemplo de Saída**: `\"Pythonéincrível\"`"
   ]
  },
  {
   "cell_type": "code",
   "execution_count": null,
   "metadata": {},
   "outputs": [],
   "source": []
  },
  {
   "cell_type": "markdown",
   "metadata": {},
   "source": [
    "## 11. Gere um programa que receba de entrada do usuário uma string e verifique se ela começa com uma determinada palavra.\n",
    "- **Descrição**: Crie um programa que solicite ao usuário uma string e uma palavra, e verifique se a string começa com essa palavra.\n",
    "- **Exemplo de Entrada**: `\"Python é legal\", \"Python\"`\n",
    "- **Exemplo de Saída**: `True`"
   ]
  },
  {
   "cell_type": "code",
   "execution_count": null,
   "metadata": {},
   "outputs": [],
   "source": []
  },
  {
   "cell_type": "markdown",
   "metadata": {},
   "source": [
    "## 12. Gere um programa que receba de entrada do usuário uma string e retorne a mesma string com as primeiras letras de cada palavra em maiúsculo.\n",
    "- **Descrição**: Crie um programa que solicite ao usuário uma string e retorne a mesma string com as primeiras letras de cada palavra em maiúsculo.\n",
    "- **Exemplo de Entrada**: `\"python é legal\"`\n",
    "- **Exemplo de Saída**: `\"Python É Legal\"`"
   ]
  },
  {
   "cell_type": "code",
   "execution_count": null,
   "metadata": {},
   "outputs": [],
   "source": []
  },
  {
   "cell_type": "markdown",
   "metadata": {},
   "source": [
    "## 13. Gere um programa que receba de entrada do usuário uma string e retorne a mesma string com todas as letras em maiúsculo.\n",
    "- **Descrição**: Crie um programa que solicite ao usuário uma string e retorne a mesma string com todas as letras em maiúsculo.\n",
    "- **Exemplo de Entrada**: `\"Python é legal\"`\n",
    "- **Exemplo de Saída**: `\"PYTHON É LEGAL\"`"
   ]
  },
  {
   "cell_type": "code",
   "execution_count": null,
   "metadata": {},
   "outputs": [],
   "source": []
  },
  {
   "cell_type": "markdown",
   "metadata": {},
   "source": [
    "## 14 (Desafio). Gere um programa que receba de entrada do usuário uma string e retorne a mesma string com todas as palavras em ordem alfabética.\n",
    "- **Descrição**: Crie um programa que solicite ao usuário uma string e retorne a mesma string com todas as palavras em ordem alfabética.\n",
    "- **Exemplo de Entrada**: `\"Python é legal\"`\n",
    "- **Exemplo de Saída**: `\"legal Python é\"`"
   ]
  },
  {
   "cell_type": "code",
   "execution_count": null,
   "metadata": {},
   "outputs": [],
   "source": []
  },
  {
   "cell_type": "code",
   "execution_count": null,
   "metadata": {},
   "outputs": [],
   "source": []
  }
 ],
 "metadata": {
  "kernelspec": {
   "display_name": "python3",
   "language": "python",
   "name": "python3"
  },
  "language_info": {
   "codemirror_mode": {
    "name": "ipython",
    "version": 3
   },
   "file_extension": ".py",
   "mimetype": "text/x-python",
   "name": "python",
   "nbconvert_exporter": "python",
   "pygments_lexer": "ipython3",
   "version": "3.9.15"
  }
 },
 "nbformat": 4,
 "nbformat_minor": 2
}
